{
 "cells": [
  {
   "cell_type": "code",
   "execution_count": 1,
   "id": "55fb669f",
   "metadata": {},
   "outputs": [],
   "source": [
    "import os\n",
    "import numpy as np\n",
    "import pandas as pd\n",
    "import json as js\n",
    "import datetime as dt\n",
    "import re"
   ]
  },
  {
   "cell_type": "code",
   "execution_count": 2,
   "id": "b4fb65ba",
   "metadata": {},
   "outputs": [
    {
     "data": {
      "text/plain": [
       "'/home/ion/Formacion/01_Programacion/Web_Scraping/projecto_hispasonic'"
      ]
     },
     "execution_count": 2,
     "metadata": {},
     "output_type": "execute_result"
    }
   ],
   "source": [
    "current_directory = os.getcwd()\n",
    "current_directory"
   ]
  },
  {
   "cell_type": "code",
   "execution_count": 3,
   "id": "9e155633",
   "metadata": {},
   "outputs": [
    {
     "data": {
      "text/plain": [
       "['12-09-2021',\n",
       " '18-11-2021',\n",
       " '24-07-2021',\n",
       " '12-12-2021',\n",
       " '04-01-2021',\n",
       " '25-12-2021']"
      ]
     },
     "execution_count": 3,
     "metadata": {},
     "output_type": "execute_result"
    }
   ],
   "source": [
    "# viewing folders\n",
    "diccionario_folders = {}\n",
    "current_folders = os.listdir(current_directory + '/' + 'csvs/')\n",
    "current_folders"
   ]
  },
  {
   "cell_type": "code",
   "execution_count": 4,
   "id": "739b25fd",
   "metadata": {},
   "outputs": [],
   "source": [
    "def df_combinator(folder):\n",
    "    listado=[]\n",
    "    pdList = []\n",
    "    DIR = current_directory + '/' + 'csvs/'+ folder\n",
    "    for name in os.listdir(DIR):\n",
    "        if os.path.isfile(os.path.join(DIR, name)):\n",
    "            listado.extend([pd.read_csv(\"csvs/{F}/{f}\".format(F=folder,f=name))])\n",
    "            A = pd.concat(listado, ignore_index=True)\n",
    "    #print(A)\n",
    "    A.to_csv(DIR + '/' + 'concat{}.csv'.format(folder),encoding='utf-8')"
   ]
  },
  {
   "cell_type": "code",
   "execution_count": 6,
   "id": "71142875",
   "metadata": {},
   "outputs": [],
   "source": [
    "for ds in current_folders:\n",
    "    df_combinator(ds)"
   ]
  },
  {
   "cell_type": "code",
   "execution_count": null,
   "id": "2026ee7e",
   "metadata": {},
   "outputs": [],
   "source": [
    ".............................."
   ]
  },
  {
   "cell_type": "code",
   "execution_count": null,
   "id": "1cce7227",
   "metadata": {},
   "outputs": [],
   "source": [
    "data_files = os.listdir(current_directory + '/' + 'csvs/' + '121221' +'/')\n",
    "data = {}\n",
    "\n",
    "lista_121221 = []\n",
    "# el contenido lo meto en un diccionario\n",
    "\n",
    "for f in data_files:\n",
    "    d = pd.read_csv(\"csvs/121221/{}\".format(f))\n",
    "    #key_name = f.replace(\".csv\",\"\")\n",
    "    #ata[key_name] = d\n",
    "    lista_121221.append(d)"
   ]
  },
  {
   "cell_type": "code",
   "execution_count": null,
   "id": "4fdd9339",
   "metadata": {},
   "outputs": [],
   "source": [
    "fusion_121221 = pd.concat(lista_121221, axis = 0)\n",
    "df_121221 = fusion_121221.copy()"
   ]
  },
  {
   "cell_type": "code",
   "execution_count": null,
   "id": "317067e3",
   "metadata": {},
   "outputs": [],
   "source": [
    "fusion_121221 = pd.concat(lista_121221, axis = 0)\n",
    "df_121221 = fusion_121221.copy()"
   ]
  },
  {
   "cell_type": "code",
   "execution_count": null,
   "id": "acec1f94",
   "metadata": {},
   "outputs": [],
   "source": [
    "diccionario_data['121221']"
   ]
  },
  {
   "cell_type": "code",
   "execution_count": null,
   "id": "75b845b4",
   "metadata": {},
   "outputs": [],
   "source": [
    "df_121221.drop_duplicates(keep = 'last', inplace = True)"
   ]
  },
  {
   "cell_type": "code",
   "execution_count": null,
   "id": "0d11eb15",
   "metadata": {},
   "outputs": [],
   "source": [
    "for a in diccionario_data['121221']:\n",
    "    d = pd.read_csv(\"{}\".format(a))\n",
    "    \n"
   ]
  },
  {
   "cell_type": "code",
   "execution_count": null,
   "id": "05347581",
   "metadata": {
    "scrolled": false
   },
   "outputs": [],
   "source": [
    "df_121221['fecha'] = df_121221['fecha'].str.replace(\"el\",\"\")\n",
    "df_121221['fecha'] = df_121221['fecha'].str.replace(\"hace\",\"\")\n",
    "df_121221['fecha'] = df_121221['fecha'].str.strip()\n",
    "df_121221['fecha'].unique()"
   ]
  },
  {
   "cell_type": "code",
   "execution_count": null,
   "id": "5f3afed2",
   "metadata": {},
   "outputs": [],
   "source": [
    "#pattern_hora = r\"\\d{1}\\s[h]\\w{4}\" # estoy seleccionando 1 digito y selecciona 2!\n",
    "#bool_hora = df_121221['fecha'].str.contains(pattern_hora)\n",
    "#hora = df_121221[bool_hora]['fecha'].unique()\n",
    "\n",
    "#pattern_dias = r\"[1-9]\\s\\w{1}[í]\\w{2}\"\n",
    "#bool_dias = df_121221['fecha'].str.contains(pattern_dias)\n",
    "#dias = df_121221[bool_dias]['fecha'].unique()\n",
    "\n",
    "#pattern_semanas = r\"[1-9]\\s\\w{6}\"\n",
    "#bool_semanas = bool_dias = df_121221['fecha'].str.contains(pattern_semanas)\n",
    "#semanas = df_121221[bool_semanas]['fecha'].unique()\n",
    "\n",
    "#pattern_horas = r\"[1-9]{2}\\s{1}\\w{5}\" \n",
    "#bool_horas = df_121221['fecha'].str.contains(pattern_horas)\n",
    "#horas = df_121221[bool_horas]['fecha'].unique()\n",
    "\n",
    "# dias array(['3 días', '6 días', '2 días', '5 días', '4 días', '7 días'],\n",
    "# semana array(['3 semanas', '2 semanas', '1 semana', '4 semanas'], dtype=object)\n",
    "# array(['2 horas', '6 horas', '7 horas', '10 horas', '12 horas','22 horas', '24 horas'], dtype=object)"
   ]
  },
  {
   "cell_type": "code",
   "execution_count": null,
   "id": "25b4b631",
   "metadata": {},
   "outputs": [],
   "source": [
    "semanas = ['1 semana', '2 semanas', '3 semanas', '4 semanas']\n",
    "semanas"
   ]
  },
  {
   "cell_type": "code",
   "execution_count": null,
   "id": "88a7b2c5",
   "metadata": {},
   "outputs": [],
   "source": [
    "dias = ['1 día', '2 días', '3 días', '4 días', '5 días', '6 días', '7 días']\n",
    "\n",
    "dias"
   ]
  },
  {
   "cell_type": "code",
   "execution_count": null,
   "id": "d65ed1b7",
   "metadata": {},
   "outputs": [],
   "source": [
    "hora = ['1 horas','2 horas', '3 horas', '4 horas', '5 horas', '6 horas',\n",
    "        '7 horas','8 horas', '9 horas', '10 horas', '11 horas', '12 horas',\n",
    "        '13 horas', '14 horas','15 horas', '16 horas', '17 horas', '18 horas',\n",
    "        '19 horas', '20 horas', '21 horas', '22 horas','23 horas', '24 horas']"
   ]
  },
  {
   "cell_type": "code",
   "execution_count": null,
   "id": "a9ceeb89",
   "metadata": {},
   "outputs": [],
   "source": [
    "df_121221['referencia'] = df_121221['fecha']"
   ]
  },
  {
   "cell_type": "code",
   "execution_count": null,
   "id": "a26dd00a",
   "metadata": {},
   "outputs": [],
   "source": [
    "namepdListdef alehop(parameter):\n",
    "    \n",
    "    #https://www.timeanddate.com/date/dateadded.html?d1=12&m1=12&y1=2021&type=sub&ay=&am=&aw=03&ad=&rec=\n",
    "    \n",
    "    days_inweek = 7\n",
    "    current_datetime = dt.datetime.strptime('2021-12-12',\"%Y-%m-%d\") \n",
    "    \n",
    "    if parameter in semanas:\n",
    "        num_semana = parameter.split()\n",
    "        num_semana = int(num_semana[0])\n",
    "        cambio_semana = semanas[num_semana-1]\n",
    "        dias_semana = (num_semana * days_inweek)\n",
    "        fecha_real_semana = current_datetime - dt.timedelta(dias_semana)\n",
    "        fecha_real_semana = fecha_real_semana.strftime(\"%Y-%m-%d\")\n",
    "                \n",
    "        df_121221['fecha'] = df_121221['fecha'].replace( to_replace = cambio_semana,\n",
    "                                                    value = fecha_real_semana) #+ ' semana'\n",
    "    elif parameter in dias:\n",
    "        num_dia = parameter.split()\n",
    "        num_dias = int(num_dia[0])\n",
    "        cambio_dia = dias[num_dias-1]\n",
    "        #print(\"num_dia: \", num_dia)\n",
    "        #print(\"cambio_dia: \", cambio_dia)\n",
    "        #print(\"\\n\")\n",
    "        fecha_real_dia = current_datetime - dt.timedelta(num_dias)\n",
    "        fecha_real_dia = fecha_real_dia.strftime(\"%Y-%m-%d\")\n",
    "        \n",
    "        df_121221['fecha'] = df_121221['fecha'].replace( to_replace = cambio_dia,\n",
    "                                                    value = fecha_real_dia) #+ ' semana'\n",
    "        \n",
    "    elif parameter in hora:\n",
    "        num_hora = parameter.split()\n",
    "        num_hora = int(num_hora[0])\n",
    "        print(num_hora)\n",
    "        cambio_hora = hora[num_hora-1]\n",
    "        \n",
    "        if cambio_hora != '24 horas':\n",
    "            #hora_real = current_datetime - dt.timedelta(horas_24)\n",
    "            \n",
    "            df_121221['fecha'] = df_121221['fecha'].replace( to_replace = cambio_hora, value = current_datetime) #+ ' semana'\n",
    "        elif cambio_hora == '24 horas':\n",
    "            horas_24 = 1\n",
    "            hora_real = current_datetime - dt.timedelta(horas_24)\n",
    "            \n",
    "            df_121221['fecha'] = df_121221['fecha'].replace( to_replace = cambio_hora,value = hora_real ) #+ ' semana'"
   ]
  },
  {
   "cell_type": "code",
   "execution_count": null,
   "id": "1b982410",
   "metadata": {},
   "outputs": [],
   "source": [
    "folder.map(alehop)"
   ]
  },
  {
   "cell_type": "code",
   "execution_count": null,
   "id": "b431f60e",
   "metadata": {},
   "outputs": [],
   "source": [
    "df_121221.head(50)"
   ]
  },
  {
   "cell_type": "code",
   "execution_count": null,
   "id": "36b2dee3",
   "metadata": {},
   "outputs": [],
   "source": [
    "df_121221[df_121221['referencia'] == '22 horas']"
   ]
  },
  {
   "cell_type": "code",
   "execution_count": null,
   "id": "80ec23fa",
   "metadata": {},
   "outputs": [],
   "source": [
    "df_121221['fecha'] = pd.to_datetime(df_121221['fecha'])"
   ]
  },
  {
   "cell_type": "code",
   "execution_count": null,
   "id": "d810c88c",
   "metadata": {},
   "outputs": [],
   "source": [
    "df_121221.info()"
   ]
  }
 ],
 "metadata": {
  "kernelspec": {
   "display_name": "Python 3 (ipykernel)",
   "language": "python",
   "name": "python3"
  },
  "language_info": {
   "codemirror_mode": {
    "name": "ipython",
    "version": 3
   },
   "file_extension": ".py",
   "mimetype": "text/x-python",
   "name": "python",
   "nbconvert_exporter": "python",
   "pygments_lexer": "ipython3",
   "version": "3.8.12"
  }
 },
 "nbformat": 4,
 "nbformat_minor": 5
}
