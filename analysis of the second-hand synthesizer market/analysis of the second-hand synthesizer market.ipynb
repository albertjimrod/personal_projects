{
 "cells": [
  {
   "cell_type": "code",
   "execution_count": 1,
   "id": "5be21611",
   "metadata": {},
   "outputs": [],
   "source": [
    "import os\n",
    "import numpy as np\n",
    "import pandas as pd\n",
    "import json as js\n",
    "import datetime as dt\n",
    "import re"
   ]
  },
  {
   "cell_type": "code",
   "execution_count": 2,
   "id": "9c404f02",
   "metadata": {},
   "outputs": [
    {
     "data": {
      "text/plain": [
       "'/home/ion/Formacion/01_Programacion/Web_Scraping/projecto_hispasonic'"
      ]
     },
     "execution_count": 2,
     "metadata": {},
     "output_type": "execute_result"
    }
   ],
   "source": [
    "current_directory = os.getcwd()\n",
    "current_directory"
   ]
  },
  {
   "cell_type": "code",
   "execution_count": 3,
   "id": "c71a8437",
   "metadata": {},
   "outputs": [
    {
     "data": {
      "text/plain": [
       "['12-09-2021',\n",
       " '18-11-2021',\n",
       " '24-07-2021',\n",
       " '12-12-2021',\n",
       " '04-01-2021',\n",
       " '25-12-2021']"
      ]
     },
     "execution_count": 3,
     "metadata": {},
     "output_type": "execute_result"
    }
   ],
   "source": [
    "# viewing folders\n",
    "diccionario_folders = {}\n",
    "current_folders = os.listdir(current_directory + '/' + 'csvs/')\n",
    "# current_folders = os.listdir(current_directory + '/' + 'csvs/')\n",
    "current_folders"
   ]
  },
  {
   "cell_type": "code",
   "execution_count": 4,
   "id": "013e53d7",
   "metadata": {},
   "outputs": [],
   "source": [
    "def combinator(folder):\n",
    "    listado=[]\n",
    "    pdList = []\n",
    "    DIR = current_directory + '/' + 'csvs/'+ folder\n",
    "    for name in os.listdir(DIR):\n",
    "        if os.path.isfile(os.path.join(DIR, name)):\n",
    "            listado.extend([pd.read_csv(\"csvs/{F}/{f}\".format(F=folder,f=name))])\n",
    "            A = pd.concat(listado, ignore_index=True)\n",
    "    print(A)\n",
    "    #A.to_csv(DIR + '{d}'.format(d = A),encoding='utf-8-sig')\n",
    "    A.to_csv(DIR + '/' + 'con_current_folder{}.csv'.format(folder),encoding='utf-8-sig')\n",
    "    ##for file in listado:\n",
    "     #   pdList.extend([pd.read_csv(\"csvs/{F}/{f}\".format(F=folder,f=listado))])\n",
    "     #   new_df[folder] = pd.concat(pdList)\n",
    "        \n",
    "    #print(new_df[folder])\n",
    "    # [Errno 2] File csvs/04-01-2021/[] does not exist: 'csvs/04-01-2021/[]'"
   ]
  },
  {
   "cell_type": "code",
   "execution_count": 5,
   "id": "74dbabd3",
   "metadata": {},
   "outputs": [
    {
     "name": "stdout",
     "output_type": "stream",
     "text": [
      "                                                maquina precio  \\\n",
      "0     prophet x ,strymon nightsky,motu828es,Polyend ...  4800€   \n",
      "1                                  Compro: Yamaha Sy 85   750€   \n",
      "2              Colección VOLCA  (Casi completa)+ extras    85€   \n",
      "3                               Secuenciador Korg SQD-1   200€   \n",
      "4     Music thing reverb+fuente conmutada+2 buses Be...   459€   \n",
      "...                                                 ...    ...   \n",
      "1475                        Casio FZ-1 teclado Sampler.  2000€   \n",
      "1476  Wurlitzer 120  1959 electric piano muy bien co...   500€   \n",
      "1477                                      Roland SP-555     1€   \n",
      "1478                           SISTEMA MODULAR EURORACK  1500€   \n",
      "1479                       Kawai piano electro acústico  1800€   \n",
      "\n",
      "               fecha         usuario      lugar  \n",
      "0      el 11/08/2021       minahonda     Madrid  \n",
      "1     hace 2 semanas  CreativeStudio     Madrid  \n",
      "2      el 24/06/2021        dundunda       Lugo  \n",
      "3        hace 5 días       Admonitor   Zaragoza  \n",
      "4      el 12/04/2020          ERDE80     Madrid  \n",
      "...              ...             ...        ...  \n",
      "1475   el 15/06/2021   electricpiano   Valencia  \n",
      "1476   el 19/07/2021           Ramon  Barcelona  \n",
      "1477   el 18/07/2021     MedinaBeats     Madrid  \n",
      "1478   el 18/07/2021       Joan Llop  Tarragona  \n",
      "1479   el 18/07/2021      José Maria     Madrid  \n",
      "\n",
      "[1480 rows x 5 columns]\n",
      "                                                maquina precio  \\\n",
      "0                                          Modal Argon8   525€   \n",
      "1                      Omnichord OM-84 (Envío incluido)   500€   \n",
      "2                                        Behringer RD 6   100€   \n",
      "3                                          Korg Kross 2   420€   \n",
      "4                                   GFI Specular Tempus   280€   \n",
      "...                                                 ...    ...   \n",
      "1479                           2hp Loop modulo Eurorack  2360€   \n",
      "1480           Compro: Compro Doepfer A-100P9 o A-100PB   190€   \n",
      "1481  Nord Stage 3 HP76. Estuche, atril, pedal, cables.   665€   \n",
      "1482                               Vocoder Next! VOX-II  2000€   \n",
      "1483                             Elektron analógico key    70€   \n",
      "\n",
      "               fecha         usuario             lugar  \n",
      "0      el 29/03/2021           Storm           Bizkaia  \n",
      "1      el 04/10/2021  Jesús Iglesias              Lugo  \n",
      "2        hace 4 días        Albert X         Barcelona  \n",
      "3        hace 4 días    daniel_es_76            Madrid  \n",
      "4      el 02/10/2021        Morphido            Madrid  \n",
      "...              ...             ...               ...  \n",
      "1479   el 26/09/2021          calast         Barcelona  \n",
      "1480   el 14/10/2021           Diego            Madrid  \n",
      "1481   el 13/10/2021  Diego Zaldivar         Barcelona  \n",
      "1482   el 29/04/2019          ABarri           Sevilla  \n",
      "1483   el 13/10/2021           Dario  S.C. de Tenerife  \n",
      "\n",
      "[1484 rows x 5 columns]\n",
      "                                       maquina precio           fecha  \\\n",
      "0     Colección VOLCA  (Casi completa)+ extras   750€   el 24/06/2021   \n",
      "1                              Waldorf Blofeld   260€     hace 6 días   \n",
      "2                           Kurzweil PC3 Le 61   500€   el 24/06/2020   \n",
      "3                     SISTEMA MODULAR EURORACK     1€     hace 6 días   \n",
      "4                              Roland fantom 8  3000€   el 09/05/2021   \n",
      "...                                        ...    ...             ...   \n",
      "1483    Doepfer Maq 16/3 Analog Step Sequencer   130€   el 07/06/2021   \n",
      "1484      Modulo Roland D110 Vintage Rack Midi   275€   el 09/05/2021   \n",
      "1485       Syntetizador Synadrone de Synamodec    54€   el 07/06/2021   \n",
      "1486                       Doepfer a 118 Noise    49€   el 07/06/2021   \n",
      "1487                             Doepfer A 170   195€   el 07/06/2021   \n",
      "\n",
      "                   usuario      lugar  \n",
      "0                 dundunda       Lugo  \n",
      "1                    meegl  Barcelona  \n",
      "2                   chemat     Madrid  \n",
      "3                Joan Llop  Tarragona  \n",
      "4                  domingo     Murcia  \n",
      "...                    ...        ...  \n",
      "1483           Pantalaimon  Barcelona  \n",
      "1484            frankie_go  Barcelona  \n",
      "1485  Miguel garcia blanca      Cádiz  \n",
      "1486              moog1406     Girona  \n",
      "1487              moog1406     Girona  \n",
      "\n",
      "[1488 rows x 5 columns]\n",
      "                                              maquina precio           fecha  \\\n",
      "0                                        Modal Argon8   525€   el 29/03/2021   \n",
      "1     Vendo Arturia Keylab 61 Essential Black Edition   175€  hace 4 semanas   \n",
      "2                                          Moog One 8  5050€     hace 5 días   \n",
      "3                                  Arturia MicroFreak   280€  hace 3 semanas   \n",
      "4                              Virus TI2 + rack mount  1200€  hace 2 semanas   \n",
      "...                                               ...    ...             ...   \n",
      "1491                                ARTURIA DRUMBRUTE   500€   el 05/11/2021   \n",
      "1492                                     MINILOGUE XD   675€   el 05/11/2021   \n",
      "1493                     Keith McMillen K Board Pro 4   140€   el 28/07/2021   \n",
      "1494                              the great destroyer   395€   el 16/08/2020   \n",
      "1495                             Vendo Ableton Push 2   125€   el 03/11/2021   \n",
      "\n",
      "            usuario      lugar  \n",
      "0             Storm    Bizkaia  \n",
      "1          Mario MB     Madrid  \n",
      "2          moog1406     Girona  \n",
      "3     Cartón Piedra       Jaén  \n",
      "4          siropene     Madrid  \n",
      "...             ...        ...  \n",
      "1491       Fernando    Córdoba  \n",
      "1492       Fernando    Córdoba  \n",
      "1493       moog1406     Girona  \n",
      "1494       jordi242  Barcelona  \n",
      "1495         131313   Valencia  \n",
      "\n",
      "[1496 rows x 5 columns]\n",
      "                                                maquina precio  \\\n",
      "0     Yamaha MoxF8 .- Teclado, sintetizador, worksta...   650€   \n",
      "1                   Waldorf Pulse Plus “Envío incluido”   250€   \n",
      "2                                  Cambio: Roland FA-06   980€   \n",
      "3                                     Roland jupiter Xm   309€   \n",
      "4                          Acid Rain Technology Maestro   895€   \n",
      "...                                                 ...    ...   \n",
      "7345                                  M AUDIO 88 teclas   280€   \n",
      "7346                                  Yamaha psr ew 300   519€   \n",
      "7347                          Winter Modular Eloquencer  1300€   \n",
      "7348                          Roland JX3P CON CHIP KIWI   150€   \n",
      "7349         Amplificador de teclados ULTRATONE K3000FX    45€   \n",
      "\n",
      "               fecha     usuario      lugar  Unnamed: 0  Unnamed: 0.1  \\\n",
      "0        hace 7 días     franjpg     Málaga         NaN           NaN   \n",
      "1      el 18/11/2021    sanwiche   Alicante         NaN           NaN   \n",
      "2      el 14/11/2021      rogaes    Granada         NaN           NaN   \n",
      "3      el 31/12/2020        Vjsj  Tarragona         NaN           NaN   \n",
      "4        hace 5 días    moog1406     Girona         NaN           NaN   \n",
      "...              ...         ...        ...         ...           ...   \n",
      "7345   el 23/11/2021  juanmotero      Cádiz         NaN           NaN   \n",
      "7346   el 23/11/2021  juanmotero      Cádiz         NaN           NaN   \n",
      "7347   el 23/11/2021    moog1406     Girona         NaN           NaN   \n",
      "7348   el 23/11/2021    Le_Blanc  Barcelona         NaN           NaN   \n",
      "7349   el 23/11/2021     Mellizo    Sevilla         NaN           NaN   \n",
      "\n",
      "      Unnamed: 0.1.1  \n",
      "0                NaN  \n",
      "1                NaN  \n",
      "2                NaN  \n",
      "3                NaN  \n",
      "4                NaN  \n",
      "...              ...  \n",
      "7345             NaN  \n",
      "7346             NaN  \n",
      "7347             NaN  \n",
      "7348             NaN  \n",
      "7349             NaN  \n",
      "\n",
      "[7350 rows x 8 columns]\n",
      "                                         maquina precio           fecha  \\\n",
      "0                                   Modal Argon8   525€   el 29/03/2021   \n",
      "1         The NDLR (Multi-Part MIDI Arpeggiator)   290€  hace 2 semanas   \n",
      "2                   Hammond A100  con Leslie 760  5000€   el 03/11/2020   \n",
      "3                                   Numa Organ 2   650€   el 29/10/2021   \n",
      "4                                     Korg Delta   750€     hace 5 días   \n",
      "...                                          ...    ...             ...   \n",
      "4597                           Polyend Sequencer   300€   el 29/10/2021   \n",
      "4598  Librería de samples para Akai S950 (y más)   320€   el 15/11/2021   \n",
      "4599                                kurzweil sp6   190€   el 11/11/2021   \n",
      "4600                        Arturia minibrute 2s   695€   el 14/11/2021   \n",
      "4601               M-Audio Hammer 88 A ESTRENAR!   580€   el 13/11/2021   \n",
      "\n",
      "                    usuario      lugar  Unnamed: 0  Unnamed: 0.1  \n",
      "0                     Storm    Bizkaia         NaN           NaN  \n",
      "1                   xfargas  Cantabria         NaN           NaN  \n",
      "2                  windbass   Zaragoza         NaN           NaN  \n",
      "3                  aitoralk   A Coruña         NaN           NaN  \n",
      "4                   brenden  Barcelona         NaN           NaN  \n",
      "...                     ...        ...         ...           ...  \n",
      "4597               moog1406     Girona         NaN           NaN  \n",
      "4598                    stz     Madrid         NaN           NaN  \n",
      "4599                LORENZO    Badajoz         NaN           NaN  \n",
      "4600  Victor Amoros Forteza     Lleida         NaN           NaN  \n",
      "4601                  Jesus   Alicante         NaN           NaN  \n",
      "\n",
      "[4602 rows x 7 columns]\n"
     ]
    }
   ],
   "source": [
    "for ds in current_folders:\n",
    "    combinator(ds)"
   ]
  },
  {
   "cell_type": "code",
   "execution_count": null,
   "id": "b7f23c78",
   "metadata": {},
   "outputs": [],
   "source": [
    "path = current_directory + '/' + 'csvs'\n",
    "\n",
    "print(path+XXXXX)\n",
    "\n",
    "pd.read_csv(path+XXXXX)"
   ]
  },
  {
   "cell_type": "code",
   "execution_count": null,
   "id": "6d54843d",
   "metadata": {},
   "outputs": [],
   "source": [
    "listado=[]\n",
    "\n",
    "DIR= current_directory + '/' + 'csvs/'+ '12-09-2021'\n",
    "\n",
    "for name in os.listdir(DIR):\n",
    "    if os.path.isfile(os.path.join(DIR, name)):\n",
    "        listado.append(name)\n",
    "listado"
   ]
  },
  {
   "cell_type": "code",
   "execution_count": null,
   "id": "037055cf",
   "metadata": {},
   "outputs": [],
   "source": [
    "listado={}\n",
    "lista_cvs = []\n",
    "for fold in current_folders:\n",
    "    DIR= current_directory + '/' + 'csvs/'+ fold\n",
    "    print(fold)\n",
    "    for name in os.listdir(DIR):\n",
    "        if os.path.isfile(os.path.join(DIR, name)):\n",
    "            print(name)\n",
    "            lista_cvs.append(name)\n",
    "    listado[fold]=name"
   ]
  },
  {
   "cell_type": "code",
   "execution_count": null,
   "id": "25c73a71",
   "metadata": {},
   "outputs": [],
   "source": [
    "listado"
   ]
  },
  {
   "cell_type": "code",
   "execution_count": null,
   "id": "d7aea68a",
   "metadata": {},
   "outputs": [],
   "source": []
  },
  {
   "cell_type": "code",
   "execution_count": null,
   "id": "f4a735e6",
   "metadata": {},
   "outputs": [],
   "source": [
    "listado=[]\n",
    "\n",
    "DIR= current_directory + '/' + 'csvs/'+ '12-09-2021'\n",
    "\n",
    "for name in os.listdir(DIR):\n",
    "    if os.path.isfile(os.path.join(DIR, name)):\n",
    "        listado.append(name)\n",
    "    listado\n"
   ]
  },
  {
   "cell_type": "code",
   "execution_count": null,
   "id": "c0944ddd",
   "metadata": {},
   "outputs": [],
   "source": [
    "listado"
   ]
  },
  {
   "cell_type": "code",
   "execution_count": null,
   "id": "378cf796",
   "metadata": {},
   "outputs": [],
   "source": [
    "df_dict={}\n",
    "\n",
    "for i in range(0,len(listado)):\n",
    "    #print(i)\n",
    "    df=pd.read_csv(DIR+'/'+listado[i])\n",
    "    df_dict[i] = df\n",
    "    \n",
    "    \n",
    "    sumatodo = pd.concat([df_dict[0], df_dict[1]], ignore_index=True)"
   ]
  },
  {
   "cell_type": "code",
   "execution_count": null,
   "id": "4bbda006",
   "metadata": {},
   "outputs": [],
   "source": [
    ".............................."
   ]
  },
  {
   "cell_type": "code",
   "execution_count": null,
   "id": "f7c4e117",
   "metadata": {},
   "outputs": [],
   "source": []
  },
  {
   "cell_type": "code",
   "execution_count": null,
   "id": "9b2fe015",
   "metadata": {},
   "outputs": [],
   "source": []
  },
  {
   "cell_type": "code",
   "execution_count": null,
   "id": "f4582906",
   "metadata": {},
   "outputs": [],
   "source": [
    "pdList = []\n",
    "new_df = {}\n",
    "for folder in current_folders:\n",
    "    data_files = os.listdir(current_directory + '/' + 'csvs/' + folder +'/')\n",
    "    print(folder)\n",
    "    \n",
    "    for file in data_files:\n",
    "        pdList.extend([pd.read_csv(\"csvs/{F}/{f}\".format(F='25-12-2021',f=file))])\n",
    "        print(file)\n",
    "        new_df[folder] = pd.concat(pdList)\n",
    "        "
   ]
  },
  {
   "cell_type": "code",
   "execution_count": null,
   "id": "33da9461",
   "metadata": {},
   "outputs": [],
   "source": [
    "for z in current_folders:\n",
    "    print(new_df[z].shape)"
   ]
  },
  {
   "cell_type": "code",
   "execution_count": null,
   "id": "4c914e34",
   "metadata": {},
   "outputs": [],
   "source": [
    "new_df['25-12-2021'].shape "
   ]
  },
  {
   "cell_type": "code",
   "execution_count": null,
   "id": "35fe5f06",
   "metadata": {},
   "outputs": [],
   "source": [
    "new_df['12-09-2021'].shape  "
   ]
  },
  {
   "cell_type": "code",
   "execution_count": null,
   "id": "1d073897",
   "metadata": {},
   "outputs": [],
   "source": [
    "folda = []\n",
    "for a in current_folders:\n",
    "    folda.append(a)\n",
    "    print(folda)"
   ]
  },
  {
   "cell_type": "code",
   "execution_count": null,
   "id": "9870302e",
   "metadata": {},
   "outputs": [],
   "source": [
    "new_df['12-09-2021']"
   ]
  },
  {
   "cell_type": "code",
   "execution_count": null,
   "id": "b9dffbca",
   "metadata": {},
   "outputs": [],
   "source": []
  },
  {
   "cell_type": "code",
   "execution_count": null,
   "id": "8f277c7d",
   "metadata": {},
   "outputs": [],
   "source": [
    "df.tail(50)"
   ]
  },
  {
   "cell_type": "code",
   "execution_count": null,
   "id": "75e24883",
   "metadata": {},
   "outputs": [],
   "source": [
    "for folder in current_folders:\n",
    "    data_files = os.listdir(current_directory + '/' + 'csvs/' + folder +'/')\n",
    "    for file in data_files:\n",
    "        df = pd.concat([pd.read_csv(\"csvs/{F}/{f}\".format(F='12-09-2021',f=file))],ignore_index=True)\n",
    "        \n",
    "                            #[pd.read_csv(f, sep=';') for f in glob.glob(path + \"/*.csv\")]\n",
    "        #print(sumador)\n",
    "        #s = folda[cnt]\n",
    "        #diccionario_folders['12-09-2021']=pd.concat(x,ignore_index=True)\n",
    "        #print(diccionario_folders[folda[cnt]])"
   ]
  },
  {
   "cell_type": "code",
   "execution_count": null,
   "id": "2e5ab437",
   "metadata": {},
   "outputs": [],
   "source": [
    "df"
   ]
  },
  {
   "cell_type": "code",
   "execution_count": null,
   "id": "02b61aa8",
   "metadata": {},
   "outputs": [],
   "source": [
    "#for folder in current_folders:\n",
    "#    xxx = folder\n",
    "#    data_files = os.listdir(current_directory + '/' + 'csvs/' + folder +'/')\n",
    "#    pd.concat([pd.read_csv(\"csvs/{F}/{f}\".format(F=folder,f=file))],ignore_index=True)\n",
    "    #for file in data_files:\n",
    "        #print(folder)\n",
    "        #diccionario_folders[folder] = pd.concat([pd.read_csv(\"csvs/{F}/{f}\".format(F=folder,f=file))],ignore_index=True)\n",
    "        #diccionario_folders[folder]"
   ]
  },
  {
   "cell_type": "code",
   "execution_count": null,
   "id": "29d5f5a1",
   "metadata": {},
   "outputs": [],
   "source": [
    "cnt=0\n",
    "for folder in current_folders:\n",
    "    cnt+=1\n",
    "    data_files = os.listdir(current_directory + '/' + 'csvs/' + folder +'/')\n",
    "    for file in data_files:\n",
    "        print(cnt)\n",
    "        print(file)\n",
    "        sumador = pd.concat([pd.read_csv(\"csvs/{F}/{f}\".format(F=folder,f=file))],ignore_index=True)\n",
    "        sumador"
   ]
  },
  {
   "cell_type": "code",
   "execution_count": null,
   "id": "44d8d687",
   "metadata": {},
   "outputs": [],
   "source": []
  },
  {
   "cell_type": "code",
   "execution_count": null,
   "id": "f7e5ad72",
   "metadata": {},
   "outputs": [],
   "source": [
    "diccionario_folders.keys()"
   ]
  },
  {
   "cell_type": "code",
   "execution_count": null,
   "id": "0c962e1e",
   "metadata": {},
   "outputs": [],
   "source": [
    "diccionario_folders['12-09-2021']"
   ]
  },
  {
   "cell_type": "code",
   "execution_count": null,
   "id": "11134dd8",
   "metadata": {},
   "outputs": [],
   "source": [
    "................."
   ]
  },
  {
   "cell_type": "code",
   "execution_count": null,
   "id": "e2c18992",
   "metadata": {},
   "outputs": [],
   "source": [
    "data_files = os.listdir(current_directory + '/' + 'csvs/' + '121221' +'/')\n",
    "data = {}\n",
    "\n",
    "lista_121221 = []\n",
    "# el contenido lo meto en un diccionario\n",
    "\n",
    "for f in data_files:\n",
    "    d = pd.read_csv(\"csvs/121221/{}\".format(f))\n",
    "    #key_name = f.replace(\".csv\",\"\")\n",
    "    #ata[key_name] = d\n",
    "    lista_121221.append(d)"
   ]
  },
  {
   "cell_type": "code",
   "execution_count": null,
   "id": "7013a0e5",
   "metadata": {},
   "outputs": [],
   "source": [
    "fusion_121221 = pd.concat(lista_121221, axis = 0)\n",
    "df_121221 = fusion_121221.copy()"
   ]
  },
  {
   "cell_type": "code",
   "execution_count": null,
   "id": "aaf42302",
   "metadata": {},
   "outputs": [],
   "source": [
    "fusion_121221 = pd.concat(lista_121221, axis = 0)\n",
    "df_121221 = fusion_121221.copy()"
   ]
  },
  {
   "cell_type": "code",
   "execution_count": null,
   "id": "a6ab1478",
   "metadata": {},
   "outputs": [],
   "source": [
    "diccionario_data['121221']"
   ]
  },
  {
   "cell_type": "code",
   "execution_count": null,
   "id": "c4d2528b",
   "metadata": {},
   "outputs": [],
   "source": [
    "df_121221.drop_duplicates(keep = 'last', inplace = True)"
   ]
  },
  {
   "cell_type": "code",
   "execution_count": null,
   "id": "35a94ec6",
   "metadata": {},
   "outputs": [],
   "source": [
    "for a in diccionario_data['121221']:\n",
    "    d = pd.read_csv(\"{}\".format(a))\n",
    "    \n"
   ]
  },
  {
   "cell_type": "code",
   "execution_count": null,
   "id": "8c0abdab",
   "metadata": {
    "scrolled": false
   },
   "outputs": [],
   "source": [
    "df_121221['fecha'] = df_121221['fecha'].str.replace(\"el\",\"\")\n",
    "df_121221['fecha'] = df_121221['fecha'].str.replace(\"hace\",\"\")\n",
    "df_121221['fecha'] = df_121221['fecha'].str.strip()\n",
    "df_121221['fecha'].unique()"
   ]
  },
  {
   "cell_type": "code",
   "execution_count": null,
   "id": "320464f1",
   "metadata": {},
   "outputs": [],
   "source": [
    "#pattern_hora = r\"\\d{1}\\s[h]\\w{4}\" # estoy seleccionando 1 digito y selecciona 2!\n",
    "#bool_hora = df_121221['fecha'].str.contains(pattern_hora)\n",
    "#hora = df_121221[bool_hora]['fecha'].unique()\n",
    "\n",
    "#pattern_dias = r\"[1-9]\\s\\w{1}[í]\\w{2}\"\n",
    "#bool_dias = df_121221['fecha'].str.contains(pattern_dias)\n",
    "#dias = df_121221[bool_dias]['fecha'].unique()\n",
    "\n",
    "#pattern_semanas = r\"[1-9]\\s\\w{6}\"\n",
    "#bool_semanas = bool_dias = df_121221['fecha'].str.contains(pattern_semanas)\n",
    "#semanas = df_121221[bool_semanas]['fecha'].unique()\n",
    "\n",
    "#pattern_horas = r\"[1-9]{2}\\s{1}\\w{5}\" \n",
    "#bool_horas = df_121221['fecha'].str.contains(pattern_horas)\n",
    "#horas = df_121221[bool_horas]['fecha'].unique()\n",
    "\n",
    "# dias array(['3 días', '6 días', '2 días', '5 días', '4 días', '7 días'],\n",
    "# semana array(['3 semanas', '2 semanas', '1 semana', '4 semanas'], dtype=object)\n",
    "# array(['2 horas', '6 horas', '7 horas', '10 horas', '12 horas','22 horas', '24 horas'], dtype=object)"
   ]
  },
  {
   "cell_type": "code",
   "execution_count": null,
   "id": "803c8a71",
   "metadata": {},
   "outputs": [],
   "source": [
    "semanas = ['1 semana', '2 semanas', '3 semanas', '4 semanas']\n",
    "semanas"
   ]
  },
  {
   "cell_type": "code",
   "execution_count": null,
   "id": "3a052ad5",
   "metadata": {},
   "outputs": [],
   "source": [
    "dias = ['1 día', '2 días', '3 días', '4 días', '5 días', '6 días', '7 días']\n",
    "\n",
    "dias"
   ]
  },
  {
   "cell_type": "code",
   "execution_count": null,
   "id": "6d912826",
   "metadata": {},
   "outputs": [],
   "source": [
    "hora = ['1 horas','2 horas', '3 horas', '4 horas', '5 horas', '6 horas',\n",
    "        '7 horas','8 horas', '9 horas', '10 horas', '11 horas', '12 horas',\n",
    "        '13 horas', '14 horas','15 horas', '16 horas', '17 horas', '18 horas',\n",
    "        '19 horas', '20 horas', '21 horas', '22 horas','23 horas', '24 horas']"
   ]
  },
  {
   "cell_type": "code",
   "execution_count": null,
   "id": "ef4925ee",
   "metadata": {},
   "outputs": [],
   "source": [
    "df_121221['referencia'] = df_121221['fecha']"
   ]
  },
  {
   "cell_type": "code",
   "execution_count": null,
   "id": "0471a1f2",
   "metadata": {},
   "outputs": [],
   "source": [
    "namepdListdef alehop(parameter):\n",
    "    \n",
    "    #https://www.timeanddate.com/date/dateadded.html?d1=12&m1=12&y1=2021&type=sub&ay=&am=&aw=03&ad=&rec=\n",
    "    \n",
    "    days_inweek = 7\n",
    "    current_datetime = dt.datetime.strptime('2021-12-12',\"%Y-%m-%d\") \n",
    "    \n",
    "    if parameter in semanas:\n",
    "        num_semana = parameter.split()\n",
    "        num_semana = int(num_semana[0])\n",
    "        cambio_semana = semanas[num_semana-1]\n",
    "        dias_semana = (num_semana * days_inweek)\n",
    "        fecha_real_semana = current_datetime - dt.timedelta(dias_semana)\n",
    "        fecha_real_semana = fecha_real_semana.strftime(\"%Y-%m-%d\")\n",
    "                \n",
    "        df_121221['fecha'] = df_121221['fecha'].replace( to_replace = cambio_semana,\n",
    "                                                    value = fecha_real_semana) #+ ' semana'\n",
    "    elif parameter in dias:\n",
    "        num_dia = parameter.split()\n",
    "        num_dias = int(num_dia[0])\n",
    "        cambio_dia = dias[num_dias-1]\n",
    "        #print(\"num_dia: \", num_dia)\n",
    "        #print(\"cambio_dia: \", cambio_dia)\n",
    "        #print(\"\\n\")\n",
    "        fecha_real_dia = current_datetime - dt.timedelta(num_dias)\n",
    "        fecha_real_dia = fecha_real_dia.strftime(\"%Y-%m-%d\")\n",
    "        \n",
    "        df_121221['fecha'] = df_121221['fecha'].replace( to_replace = cambio_dia,\n",
    "                                                    value = fecha_real_dia) #+ ' semana'\n",
    "        \n",
    "    elif parameter in hora:\n",
    "        num_hora = parameter.split()\n",
    "        num_hora = int(num_hora[0])\n",
    "        print(num_hora)\n",
    "        cambio_hora = hora[num_hora-1]\n",
    "        \n",
    "        if cambio_hora != '24 horas':\n",
    "            #hora_real = current_datetime - dt.timedelta(horas_24)\n",
    "            \n",
    "            df_121221['fecha'] = df_121221['fecha'].replace( to_replace = cambio_hora, value = current_datetime) #+ ' semana'\n",
    "        elif cambio_hora == '24 horas':\n",
    "            horas_24 = 1\n",
    "            hora_real = current_datetime - dt.timedelta(horas_24)\n",
    "            \n",
    "            df_121221['fecha'] = df_121221['fecha'].replace( to_replace = cambio_hora,value = hora_real ) #+ ' semana'"
   ]
  },
  {
   "cell_type": "code",
   "execution_count": null,
   "id": "604dd985",
   "metadata": {},
   "outputs": [],
   "source": [
    "folder.map(alehop)"
   ]
  },
  {
   "cell_type": "code",
   "execution_count": null,
   "id": "26209d8c",
   "metadata": {},
   "outputs": [],
   "source": [
    "df_121221.head(50)"
   ]
  },
  {
   "cell_type": "code",
   "execution_count": null,
   "id": "72cd0e55",
   "metadata": {},
   "outputs": [],
   "source": [
    "df_121221[df_121221['referencia'] == '22 horas']"
   ]
  },
  {
   "cell_type": "code",
   "execution_count": null,
   "id": "adf08c04",
   "metadata": {},
   "outputs": [],
   "source": [
    "df_121221['fecha'] = pd.to_datetime(df_121221['fecha'])"
   ]
  },
  {
   "cell_type": "code",
   "execution_count": null,
   "id": "a61880b5",
   "metadata": {},
   "outputs": [],
   "source": [
    "df_121221.info()"
   ]
  }
 ],
 "metadata": {
  "kernelspec": {
   "display_name": "Python 3 (ipykernel)",
   "language": "python",
   "name": "python3"
  },
  "language_info": {
   "codemirror_mode": {
    "name": "ipython",
    "version": 3
   },
   "file_extension": ".py",
   "mimetype": "text/x-python",
   "name": "python",
   "nbconvert_exporter": "python",
   "pygments_lexer": "ipython3",
   "version": "3.8.12"
  }
 },
 "nbformat": 4,
 "nbformat_minor": 5
}
